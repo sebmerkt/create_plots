{
 "cells": [
  {
   "cell_type": "code",
   "execution_count": 3,
   "metadata": {},
   "outputs": [],
   "source": [
    "from __future__ import division\n",
    "import numpy as np\n",
    "import uproot\n",
    "import sys\n",
    "sys.path.append('tools')\n",
    "import tools"
   ]
  },
  {
   "cell_type": "code",
   "execution_count": 4,
   "metadata": {},
   "outputs": [],
   "source": [
    "#%%python2\n",
    "eftfitter = uproot.open(\"/home/sam/EFTfitterRelease/examples/EFTfitter-combined-model/veryhigh_results_a_w_8f_cpq-cptb-cbw-ctw-cqq-P_/result_plots.root\")\n",
    "eftfitter1 = uproot.open(\"/home/sam/EFTfitterRelease/examples/EFTfitter-combined-model/veryhigh_results_a_w_8s_cpq-cptb-cbw-ctw-cqq-P_/result_plots.root\")\n",
    "eftfitter2 = uproot.open(\"/home/sam/EFTfitterRelease/examples/EFTfitter-combined-model/veryhigh_results_a_w_8f_8s_cpq-cptb-cbw-ctw-cqq-P_/result_plots.root\")"
   ]
  },
  {
   "cell_type": "code",
   "execution_count": 5,
   "metadata": {},
   "outputs": [],
   "source": [
    "one_dim_hist=[]\n",
    "two_dim_hist=[]\n",
    "for key in eftfitter.allkeys():\n",
    "    if 'hist_0_' in key:\n",
    "        if key.count('_') == 2:\n",
    "            one_dim_hist.append(key)\n",
    "        elif key.count('_') == 3:\n",
    "            two_dim_hist.append(key)"
   ]
  },
  {
   "cell_type": "code",
   "execution_count": 6,
   "metadata": {},
   "outputs": [],
   "source": [
    "# 1D histograms\n",
    "for hist in one_dim_hist:\n",
    "    clx68,cly68=tools.getCL1D(0.685, -10, 10, eftfitter[hist])\n",
    "    clx95,cly95=tools.getCL1D(0.955, -10, 10, eftfitter[hist])\n",
    "    clx100,cly100=tools.getCL1D(1.0, -10, 10, eftfitter[hist])\n",
    "    \n",
    "    tools.plot_one_dim_histogram(hist, cly68, cly95, cly100, euler=False)"
   ]
  },
  {
   "cell_type": "code",
   "execution_count": null,
   "metadata": {},
   "outputs": [],
   "source": [
    "# 1D combined histograms\n",
    "for hist in one_dim_hist:\n",
    "    clx_1,cly_1=getCL1D(0.955, -10, 10, eftfitter[hist])\n",
    "    clx100_1,cly100_1=getCL1D(0.9999, -10, 10, eftfitter[hist])\n",
    "    clx_2,cly_2=getCL1D(0.955, -10, 10, eftfitter1[hist])\n",
    "    clx100_2,cly100_2=getCL1D(0.9999, -10, 10, eftfitter1[hist])\n",
    "    \n",
    "    combine_one_dim_histogram(hist, cly_1, cly_2, cly100_1, cly100_2, measurement1=r'Total', measurement2=r'Fiducial')"
   ]
  },
  {
   "cell_type": "code",
   "execution_count": null,
   "metadata": {},
   "outputs": [],
   "source": [
    "# 2D histograms\n",
    "for hist in two_dim_hist:\n",
    "    plot_two_dim_histogram(hist)"
   ]
  },
  {
   "cell_type": "code",
   "execution_count": null,
   "metadata": {},
   "outputs": [],
   "source": [
    "# 2D combined histograms\n",
    "for hist in two_dim_hist:\n",
    "    combine_two_dim_histogram(eftfitter, eftfitter1, hist, r't-channel', r't-channel + s-channel')"
   ]
  },
  {
   "cell_type": "code",
   "execution_count": null,
   "metadata": {},
   "outputs": [],
   "source": [
    "# 3 combined histograms\n",
    "for hist in two_dim_hist:\n",
    "    combine_three_histograms(eftfitter, eftfitter1, eftfitter2, hist, r't-channel', r's-channel', r't-channel + s-channel')"
   ]
  }
 ],
 "metadata": {
  "kernelspec": {
   "display_name": "Python 2",
   "language": "python",
   "name": "python2"
  },
  "language_info": {
   "codemirror_mode": {
    "name": "ipython",
    "version": 2
   },
   "file_extension": ".py",
   "mimetype": "text/x-python",
   "name": "python",
   "nbconvert_exporter": "python",
   "pygments_lexer": "ipython2",
   "version": "2.7.15rc1"
  }
 },
 "nbformat": 4,
 "nbformat_minor": 2
}
